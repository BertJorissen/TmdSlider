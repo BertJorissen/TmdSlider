{
 "cells": [
  {
   "cell_type": "code",
   "execution_count": 1,
   "metadata": {
    "tags": []
   },
   "outputs": [
    {
     "ename": "TypeError",
     "evalue": "'_SpecialForm' object does not support item assignment",
     "output_type": "error",
     "traceback": [
      "\u001B[0;31m---------------------------------------------------------------------------\u001B[0m",
      "\u001B[0;31mTypeError\u001B[0m                                 Traceback (most recent call last)",
      "Cell \u001B[0;32mIn [1], line 3\u001B[0m\n\u001B[1;32m      1\u001B[0m \u001B[38;5;28;01mfrom\u001B[39;00m \u001B[38;5;21;01mtmd_presentation\u001B[39;00m \u001B[38;5;28;01mimport\u001B[39;00m run_script\n\u001B[1;32m      2\u001B[0m get_ipython()\u001B[38;5;241m.\u001B[39mrun_line_magic(\u001B[38;5;124m'\u001B[39m\u001B[38;5;124mmatplotlib\u001B[39m\u001B[38;5;124m'\u001B[39m, \u001B[38;5;124m'\u001B[39m\u001B[38;5;124mwidget\u001B[39m\u001B[38;5;124m'\u001B[39m)\n\u001B[0;32m----> 3\u001B[0m sliders \u001B[38;5;241m=\u001B[39m \u001B[43mrun_script\u001B[49m\u001B[43m(\u001B[49m\u001B[43m)\u001B[49m\n",
      "File \u001B[0;32m~/PycharmProjects/TmdSlider/tmd_presentation.py:276\u001B[0m, in \u001B[0;36mrun_script\u001B[0;34m()\u001B[0m\n\u001B[1;32m    274\u001B[0m \u001B[38;5;28;01mdef\u001B[39;00m \u001B[38;5;21mrun_script\u001B[39m():\n\u001B[1;32m    275\u001B[0m     data \u001B[38;5;241m=\u001B[39m cloudpickle\u001B[38;5;241m.\u001B[39mload(urlopen(Request(\u001B[38;5;124m\"\u001B[39m\u001B[38;5;124mhttp://nc.tfm.uantwerpen.be/s/HJRpRTTssAKM67P/download/bands.pickle\u001B[39m\u001B[38;5;124m\"\u001B[39m)))\n\u001B[0;32m--> 276\u001B[0m     \u001B[38;5;28;01mreturn\u001B[39;00m \u001B[43mTmdPresentation\u001B[49m\u001B[43m(\u001B[49m\u001B[43mdata\u001B[49m\u001B[43m)\u001B[49m\n",
      "File \u001B[0;32m~/PycharmProjects/TmdSlider/tmd_presentation.py:30\u001B[0m, in \u001B[0;36mTmdPresentation.__init__\u001B[0;34m(self, data)\u001B[0m\n\u001B[1;32m     28\u001B[0m \u001B[38;5;66;03m# axes\u001B[39;00m\n\u001B[1;32m     29\u001B[0m \u001B[38;5;28mself\u001B[39m\u001B[38;5;241m.\u001B[39m_ax_bands: Optional[Axes] \u001B[38;5;241m=\u001B[39m \u001B[38;5;28;01mNone\u001B[39;00m\n\u001B[0;32m---> 30\u001B[0m \u001B[38;5;28mself\u001B[39m\u001B[38;5;241m.\u001B[39m_ax_gui \u001B[38;5;241m=\u001B[39m \u001B[43mOptional\u001B[49m\u001B[43m[\u001B[49m\u001B[43mAxes\u001B[49m\u001B[43m]\u001B[49m \u001B[38;5;241m=\u001B[39m \u001B[38;5;28;01mNone\u001B[39;00m\n\u001B[1;32m     32\u001B[0m \u001B[38;5;66;03m# data\u001B[39;00m\n\u001B[1;32m     33\u001B[0m \u001B[38;5;28mself\u001B[39m\u001B[38;5;241m.\u001B[39m_data \u001B[38;5;241m=\u001B[39m data\n",
      "\u001B[0;31mTypeError\u001B[0m: '_SpecialForm' object does not support item assignment"
     ]
    }
   ],
   "source": [
    "from tmd_presentation import run_script\n",
    "%matplotlib widget\n",
    "sliders = run_script()"
   ]
  },
  {
   "cell_type": "code",
   "execution_count": null,
   "outputs": [],
   "source": [],
   "metadata": {
    "collapsed": false
   }
  }
 ],
 "metadata": {
  "kernelspec": {
   "display_name": "Python 3 (ipykernel)",
   "language": "python",
   "name": "python3"
  },
  "language_info": {
   "codemirror_mode": {
    "name": "ipython",
    "version": 3
   },
   "file_extension": ".py",
   "mimetype": "text/x-python",
   "name": "python",
   "nbconvert_exporter": "python",
   "pygments_lexer": "ipython3",
   "version": "3.10.6"
  }
 },
 "nbformat": 4,
 "nbformat_minor": 4
}
